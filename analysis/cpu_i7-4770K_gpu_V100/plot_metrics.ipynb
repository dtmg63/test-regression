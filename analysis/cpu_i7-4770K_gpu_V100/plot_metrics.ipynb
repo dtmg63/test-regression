{
 "cells": [
  {
   "cell_type": "code",
   "execution_count": 1,
   "metadata": {},
   "outputs": [],
   "source": [
    "import matplotlib.pyplot as plt\n",
    "import sys, os, glob"
   ]
  },
  {
   "cell_type": "code",
   "execution_count": 2,
   "metadata": {},
   "outputs": [],
   "source": [
    "metrics = {}\n",
    "files = glob.glob(\"./*.csv\")"
   ]
  },
  {
   "cell_type": "code",
   "execution_count": 3,
   "metadata": {},
   "outputs": [
    {
     "name": "stdout",
     "output_type": "stream",
     "text": [
      "['./multifit_gpu.csv', './multifit_cpu.csv', './legacy_multifit_cpu.csv', './legacy_multifit_gpu.csv']\n"
     ]
    }
   ],
   "source": [
    "print files"
   ]
  },
  {
   "cell_type": "code",
   "execution_count": 4,
   "metadata": {},
   "outputs": [
    {
     "name": "stdout",
     "output_type": "stream",
     "text": [
      "multifit_gpu\n",
      "multifit_cpu\n",
      "legacy_multifit_cpu\n",
      "legacy_multifit_gpu\n"
     ]
    }
   ],
   "source": [
    "for f in files:\n",
    "    with open(f, \"r\") as fin:\n",
    "        label = f[2:-4]\n",
    "        print label\n",
    "        line = fin.readline()\n",
    "        metrics[label] = map(float, line.rstrip().split(','))"
   ]
  },
  {
   "cell_type": "code",
   "execution_count": 5,
   "metadata": {},
   "outputs": [
    {
     "name": "stdout",
     "output_type": "stream",
     "text": [
      "{'legacy_multifit_gpu': [3.11111, 4.22222, 7.0, 11.0, 19.0, 38.0, 76.0], 'multifit_cpu': [4.0, 8.2, 17.0, 34.2, 68.0, 136.3, 277.7], 'legacy_multifit_cpu': [5.0, 11.0, 23.1, 53.8, 92.0, 185.1, 369.3], 'multifit_gpu': [2.77778, 3.11111, 6.0, 10.0, 17.5556, 34.5556, 68.7778]}\n"
     ]
    }
   ],
   "source": [
    "print metrics"
   ]
  },
  {
   "cell_type": "code",
   "execution_count": 6,
   "metadata": {},
   "outputs": [
    {
     "name": "stderr",
     "output_type": "stream",
     "text": [
      "/usr/local/Cellar/python/2.7.14/Frameworks/Python.framework/Versions/2.7/lib/python2.7/site-packages/matplotlib/cbook/deprecation.py:106: MatplotlibDeprecationWarning: Adding an axes using the same arguments as a previous axes currently reuses the earlier instance.  In a future version, a new instance will always be created and returned.  Meanwhile, this warning can be suppressed, and the future behavior ensured, by passing a unique label to each axes instance.\n",
      "  warnings.warn(message, mplDeprecation, stacklevel=1)\n"
     ]
    },
    {
     "data": {
      "image/png": "[encoded data removed]",
      "text/plain": [
       "<matplotlib.figure.Figure at 0x1125165d0>"
      ]
     },
     "metadata": {},
     "output_type": "display_data"
    }
   ],
   "source": [
    "channels = [2 ** x for x in range(10, 17)]\n",
    "format = 'pdf'\n",
    "\n",
    "fig = plt.figure()\n",
    "ax = plt.axes()\n",
    "ax = plt.subplot(111)\n",
    "w = 0.1 \n",
    "base_label = \"legacy_multifit_cpu\"\n",
    "x = list(range(len(metrics[base_label])))\n",
    "    \n",
    "# ax.set_xticks(x)\n",
    "for label in metrics:\n",
    "    ax.bar(x, [(a/b) for a, b in zip(metrics[base_label],\n",
    "                                     metrics[label])], width=w, label=label, align='center')\n",
    "    x = [x + w for x in x]\n",
    "\n",
    "ax.set_ylabel('speed-up')\n",
    "ax.set_xlabel('channels')\n",
    "ax.set_xticks([x-(len(channels)/2 * w) for x in x])\n",
    "ax.set_xticklabels(channels)\n",
    "ax.autoscale(tight=True)\n",
    "ax.set_title('Speed-up using legacy_multifit_cpu as reference value')\n",
    "ax.legend(loc='upper left' , bbox_to_anchor=(0.0001, 1.01))\n",
    "\n",
    "# ax.legend(loc='upper left')\n",
    "fig.savefig('bar_plot.'+format, format=format)\n",
    "plt.show()"
   ]
  },
  {
   "cell_type": "code",
   "execution_count": null,
   "metadata": {},
   "outputs": [],
   "source": []
  }
 ],
 "metadata": {
  "kernelspec": {
   "display_name": "Python 2",
   "language": "python",
   "name": "python2"
  },
  "language_info": {
   "codemirror_mode": {
    "name": "ipython",
    "version": 2
   },
   "file_extension": ".py",
   "mimetype": "text/x-python",
   "name": "python",
   "nbconvert_exporter": "python",
   "pygments_lexer": "ipython2",
   "version": "2.7.14"
  }
 },
 "nbformat": 4,
 "nbformat_minor": 2
}
