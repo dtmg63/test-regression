{
 "cells": [
  {
   "cell_type": "code",
   "execution_count": 9,
   "metadata": {},
   "outputs": [],
   "source": [
    "import matplotlib.pyplot as plt\n",
    "import sys, os, glob"
   ]
  },
  {
   "cell_type": "code",
   "execution_count": 29,
   "metadata": {},
   "outputs": [],
   "source": [
    "metrics = {}\n",
    "files = glob.glob(\"./*.csv\")"
   ]
  },
  {
   "cell_type": "code",
   "execution_count": 30,
   "metadata": {},
   "outputs": [
    {
     "name": "stdout",
     "output_type": "stream",
     "text": [
      "['./legacy_multifit_gpu_teslaK40c.csv', './multifit_cpu.csv', './multifit_gpu_teslaK40c.csv', './multifit_gpu_v100.csv', './legacy_multifit_cpu.csv', './legacy_multifit_gpu_v100.csv']\n"
     ]
    }
   ],
   "source": [
    "print files"
   ]
  },
  {
   "cell_type": "code",
   "execution_count": 31,
   "metadata": {},
   "outputs": [
    {
     "name": "stdout",
     "output_type": "stream",
     "text": [
      "legacy_gpu_teslaK40c\n",
      "cpu\n",
      "gpu_teslaK40c\n",
      "gpu_v100\n",
      "legacy_cpu\n",
      "legacy_gpu_v100\n"
     ]
    }
   ],
   "source": [
    "for f in files:\n",
    "    with open(f, \"r\") as fin:\n",
    "        label = f[2:-4].replace(\"multifit_\", \"\")\n",
    "        print label\n",
    "        line = fin.readline()\n",
    "        metrics[label] = map(float, line.rstrip().split(','))"
   ]
  },
  {
   "cell_type": "code",
   "execution_count": 32,
   "metadata": {},
   "outputs": [
    {
     "name": "stdout",
     "output_type": "stream",
     "text": [
      "{'legacy_gpu_v100': [3.11111, 4.22222, 7.0, 11.0, 19.0, 38.0, 76.0], 'gpu_v100': [2.77778, 3.11111, 6.0, 10.0, 17.5556, 34.5556, 68.7778], 'legacy_gpu_teslaK40c': [7.0, 8.55556, 16.0, 27.0, 48.0, 91.0, 179.111], 'gpu_teslaK40c': [5.0, 7.22222, 13.1111, 22.8889, 44.2222, 81.5556, 141.778], 'legacy_cpu': [5.0, 11.0, 23.1, 53.8, 92.0, 185.1, 369.3], 'cpu': [4.0, 8.2, 17.0, 34.2, 68.0, 136.3, 277.7]}\n"
     ]
    }
   ],
   "source": [
    "print metrics"
   ]
  },
  {
   "cell_type": "code",
   "execution_count": 36,
   "metadata": {},
   "outputs": [
    {
     "data": {
      "image/png": "[encoded data removed]",
      "text/plain": [
       "<matplotlib.figure.Figure at 0x109b8b150>"
      ]
     },
     "metadata": {},
     "output_type": "display_data"
    }
   ],
   "source": [
    "channels = [2 ** x for x in range(10, 17)]\n",
    "format = 'pdf'\n",
    "\n",
    "fig = plt.figure(figsize=(10, 5))\n",
    "ax = plt.axes()\n",
    "ax = plt.subplot(111)\n",
    "w = 0.1 \n",
    "base_label = \"legacy_cpu\"\n",
    "x = list(range(len(metrics[base_label])))\n",
    "    \n",
    "# ax.set_xticks(x)\n",
    "for label in metrics:\n",
    "    ax.bar(x, [(a/b) for a, b in zip(metrics[base_label],\n",
    "                                     metrics[label])], width=w, label=label, align='center')\n",
    "    x = [x + w for x in x]\n",
    "\n",
    "box = ax.get_position()\n",
    "ax.set_position([box.x0, box.y0, box.width * 0.8, box.height])\n",
    "    \n",
    "ax.set_ylabel('speed-up')\n",
    "ax.set_xlabel('channels')\n",
    "ax.set_xticks([x-(len(channels)/2 * w) for x in x])\n",
    "ax.set_xticklabels(channels)\n",
    "ax.autoscale(tight=True)\n",
    "ax.set_title('Speed-up using %s as reference value' % base_label)\n",
    "ax.legend(loc='center left' , bbox_to_anchor=(1, 0.5))\n",
    "\n",
    "# ax.legend(loc='upper left')\n",
    "fig.savefig('bar_plot.'+format, format=format)\n",
    "plt.show()"
   ]
  },
  {
   "cell_type": "code",
   "execution_count": null,
   "metadata": {},
   "outputs": [],
   "source": []
  },
  {
   "cell_type": "code",
   "execution_count": null,
   "metadata": {},
   "outputs": [],
   "source": []
  }
 ],
 "metadata": {
  "kernelspec": {
   "display_name": "Python 2",
   "language": "python",
   "name": "python2"
  },
  "language_info": {
   "codemirror_mode": {
    "name": "ipython",
    "version": 2
   },
   "file_extension": ".py",
   "mimetype": "text/x-python",
   "name": "python",
   "nbconvert_exporter": "python",
   "pygments_lexer": "ipython2",
   "version": "2.7.14"
  }
 },
 "nbformat": 4,
 "nbformat_minor": 2
}
